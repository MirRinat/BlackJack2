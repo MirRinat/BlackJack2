{
 "cells": [
  {
   "cell_type": "code",
   "execution_count": 1,
   "metadata": {},
   "outputs": [],
   "source": [
    "import random\n",
    "\n",
    "points = range(12, 22) # Возможные очки от 12 до 21\n",
    "dealer_card = [2, 3, 4, 5, 6, 7, 8, 9, 10, None] # Открытая карта диллера, Играющий туз - 10-й вариант\n",
    "playing_ace = [0, 1] # Наличие играющего туза\n",
    "states = [[i,j,k] for i in points for j in dealer_card  for k in playing_ace] # возможные состояния\n",
    "random.seed(555)"
   ]
  },
  {
   "cell_type": "code",
   "execution_count": 2,
   "metadata": {},
   "outputs": [],
   "source": [
    "def get_card(cards, player_cards):\n",
    "    i = random.randrange(len(cards))\n",
    "    card = cards[i]\n",
    "    del cards[i]\n",
    "    if card is None:\n",
    "        if sum(player_cards) == 11:\n",
    "            card = 1\n",
    "        else:\n",
    "            card = 11\n",
    "    player_cards.append(card)"
   ]
  },
  {
   "cell_type": "code",
   "execution_count": 3,
   "metadata": {},
   "outputs": [],
   "source": [
    "def run_episode():\n",
    "    # S Состояние - строка 'сумма очков/открытая карта сдающего/наличие играющего туза'\n",
    "    # А - действие 1 - еще, 0 - хватит\n",
    "    # R - вознагражение - на всех шагах кроме последнего 0, 1 если выигрыш, 0 если ничья, -1 если проигрыш\n",
    "    episode = []\n",
    "\n",
    "\n",
    "    cards = [2, 3, 4, 5, 6, 7, 8, 9, 10,\n",
    "             None, # Туз\n",
    "             10,   # Валет\n",
    "             10,   # Дама\n",
    "             10]   # Король\n",
    "    #колода\n",
    "    cards = cards*4\n",
    "    random.shuffle(cards)\n",
    "    dealer_cards, player_cards, cards = cards[:2], cards[2:4], cards[4:]\n",
    "    dealer_open_card = random.choice(dealer_cards)\n",
    "    if_has_play_ace = 0\n",
    "\n",
    "    # В начале партии разбираемся с играющими тузами\n",
    "    if (dealer_cards[0] is None) and (dealer_cards[1] is None):\n",
    "        dealer_cards[0] = 11\n",
    "        dealer_cards[1] = 1\n",
    "    else:\n",
    "        if dealer_cards[0] is None:\n",
    "            dealer_cards[0] = 11\n",
    "        if dealer_cards[1] is None:\n",
    "            dealer_cards[1] = 11\n",
    "\n",
    "    if (player_cards[0] is None) and (player_cards[1] is None):\n",
    "        player_cards[0] = 11\n",
    "        player_cards[1] = 1\n",
    "        if_has_play_ace = 1\n",
    "    else:\n",
    "        if player_cards[0] is None:\n",
    "            player_cards[0] = 11\n",
    "            if_has_play_ace = 1\n",
    "        if player_cards[1] is None:\n",
    "            player_cards[1] = 11\n",
    "            if_has_play_ace = 1\n",
    "\n",
    "    # Набираем до 12 так как счет суммы очков имеет смысл вести с 12\n",
    "    while True:\n",
    "        if sum(player_cards)>=12:\n",
    "            break\n",
    "        get_card(cards, player_cards)\n",
    "\n",
    "    A = 1 # Текущее действие игрока\n",
    "    R = 0 # Выигрыш всегда на каждом шаге 0 (кроме последнего)\n",
    "\n",
    "    d_sum = sum(dealer_cards)\n",
    "    p_sum = sum(player_cards)\n",
    "\n",
    "    while True:\n",
    "        if A == 1:\n",
    "            # Добавляем ход в эпизод (игру)\n",
    "            S = '|'.join([str(p_sum), str(dealer_open_card), str(if_has_play_ace)])\n",
    "            episode.append([S,A,R])\n",
    "\n",
    "        if A == 1:\n",
    "            if ((d_sum == 21) and (p_sum == 21)):\n",
    "                break\n",
    "            if (d_sum == 21):\n",
    "                episode[-1][2] = -1\n",
    "                break\n",
    "        elif A == 0:\n",
    "            if (d_sum >= 17):\n",
    "                if (d_sum > p_sum):\n",
    "                    episode[-1][2] = -1\n",
    "                    break\n",
    "                if (d_sum < p_sum):\n",
    "                    episode[-1][2] = 1\n",
    "                    break\n",
    "                if (d_sum == p_sum):\n",
    "                    break\n",
    "            else:\n",
    "                if (d_sum > p_sum):\n",
    "                    episode[-1][2] = -1\n",
    "                    break\n",
    "\n",
    "        # Ход игрока стратегия хватит или дальше\n",
    "        if A == 1:\n",
    "            A = random.choice([0, 1])\n",
    "\n",
    "        if A == 1:\n",
    "            get_card(cards, player_cards)\n",
    "            p_sum = sum(player_cards)\n",
    "            if p_sum > 21:\n",
    "                episode[-1][2] = -1\n",
    "                break\n",
    "\n",
    "        if A == 0:\n",
    "            get_card(cards, dealer_cards)  \n",
    "            d_sum = sum(dealer_cards)\n",
    "            if d_sum > 21:\n",
    "                episode[-1][2] = 1\n",
    "                break\n",
    "    \n",
    "    return episode"
   ]
  },
  {
   "cell_type": "code",
   "execution_count": 4,
   "metadata": {},
   "outputs": [],
   "source": [
    "episodes = []\n",
    "N = 500000"
   ]
  },
  {
   "cell_type": "code",
   "execution_count": 5,
   "metadata": {},
   "outputs": [],
   "source": [
    "for i in range(N):\n",
    "    episodes.append(run_episode())"
   ]
  },
  {
   "cell_type": "code",
   "execution_count": 6,
   "metadata": {},
   "outputs": [],
   "source": [
    "# Итоговые стратегии для состояний\n",
    "strategies = {}\n",
    "# Заполняем начальные стратегии\n",
    "for points in range(12, 22):\n",
    "    for open_card in [2, 3, 4, 5, 6, 7, 8, 9, 10, None]:\n",
    "        for playing_ace in [0, 1]:\n",
    "            S = '|'.join([str(points), str(open_card), str(playing_ace)])\n",
    "            if points in (20, 21):\n",
    "                strategies[S] = 0\n",
    "            else:\n",
    "                strategies[S] = 1"
   ]
  },
  {
   "cell_type": "code",
   "execution_count": 7,
   "metadata": {},
   "outputs": [],
   "source": [
    "# Функции ценностей и Returns для всех пар состояние-действие\n",
    "values, rets = {}, {}\n",
    "# Заполняем начальные ценности и Returns\n",
    "for points in range(12, 22):\n",
    "    for open_card in [2, 3, 4, 5, 6, 7, 8, 9, 10, None]:\n",
    "        for playing_ace in [0, 1]:\n",
    "            S = '|'.join([str(points), str(open_card), str(playing_ace)])\n",
    "            for action in [0, 1]:\n",
    "                key = '|'.join([S, str(action)])\n",
    "                values[key] = 0.0\n",
    "                rets[key] = []"
   ]
  },
  {
   "cell_type": "code",
   "execution_count": 8,
   "metadata": {},
   "outputs": [],
   "source": [
    "def avg_lst(lst):\n",
    "    return sum(lst) / float(len(lst))"
   ]
  },
  {
   "cell_type": "code",
   "execution_count": 9,
   "metadata": {},
   "outputs": [],
   "source": [
    "for episode in episodes:\n",
    "    # МК метод первого посещения\n",
    "    visited = []\n",
    "    for step in episode:\n",
    "        visited_key = ''.join([step[0], str(step[1]), str(step[2])])\n",
    "        if visited_key in visited:\n",
    "            continue\n",
    "        visited.append(visited_key)\n",
    "        key = '|'.join([step[0], str(step[1])])\n",
    "        rets[key].append(step[2])\n",
    "        values[key] = avg_lst(rets[key])\n",
    "        \n",
    "        # Выбор оптимальной стратегии\n",
    "        sk1, sk0 = '|'.join([step[0],str(1)]), '|'.join([step[0],str(0)])\n",
    "        \n",
    "        if values[sk1] > values[sk0]:\n",
    "            strategies[step[0]] = 1\n",
    "        else:\n",
    "            strategies[step[0]] = 0"
   ]
  },
  {
   "cell_type": "code",
   "execution_count": 10,
   "metadata": {},
   "outputs": [],
   "source": [
    "strategies_ace_points = []\n",
    "strategies_ace_dealer_card = []\n",
    "strategies_actions = []\n",
    "for k in strategies.keys():\n",
    "    if_ace = int(k[-1])\n",
    "    ind = k.find('|')\n",
    "    points = int(k[:ind])\n",
    "    ind2 = k.find('|',(ind+1))\n",
    "    dealer_card = k[(ind+1):ind2]\n",
    "    if dealer_card == 'None':\n",
    "        dealer_card = 11\n",
    "    else:\n",
    "        dealer_card = int(dealer_card)\n",
    "    if (if_ace == 1):\n",
    "        strategies_ace_points.append(points)\n",
    "        strategies_ace_dealer_card.append(dealer_card)\n",
    "        strategies_actions.append(strategies[k])"
   ]
  },
  {
   "cell_type": "code",
   "execution_count": 11,
   "metadata": {},
   "outputs": [
    {
     "data": {
      "image/png": "[encoded data removed]",
      "text/plain": [
       "<Figure size 432x288 with 2 Axes>"
      ]
     },
     "metadata": {
      "needs_background": "light"
     },
     "output_type": "display_data"
    }
   ],
   "source": [
    "import pandas as pd\n",
    "import seaborn as sns\n",
    "import matplotlib.pyplot as plt\n",
    "data = pd.DataFrame(data={'strategies_ace_points':strategies_ace_points,\n",
    "                          'strategies_ace_dealer_card':strategies_ace_dealer_card, \n",
    "                           'strategies_actions':strategies_actions})\n",
    "data = data.pivot(columns='strategies_ace_dealer_card', index='strategies_ace_points', values='strategies_actions')\n",
    "ax = sns.heatmap(data, cmap=\"Greens\")\n",
    "ax.invert_yaxis()"
   ]
  },
  {
   "cell_type": "code",
   "execution_count": null,
   "metadata": {},
   "outputs": [],
   "source": []
  }
 ],
 "metadata": {
  "kernelspec": {
   "display_name": "Python 3",
   "language": "python",
   "name": "python3"
  },
  "language_info": {
   "codemirror_mode": {
    "name": "ipython",
    "version": 3
   },
   "file_extension": ".py",
   "mimetype": "text/x-python",
   "name": "python",
   "nbconvert_exporter": "python",
   "pygments_lexer": "ipython3",
   "version": "3.7.6"
  }
 },
 "nbformat": 4,
 "nbformat_minor": 4
}
